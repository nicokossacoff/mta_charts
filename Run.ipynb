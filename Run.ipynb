{
 "cells": [
  {
   "cell_type": "code",
   "execution_count": null,
   "metadata": {},
   "outputs": [],
   "source": [
    "import pandas as pd\n",
    "import matplotlib\n",
    "import matplotlib.pyplot as plt\n",
    "import warnings\n",
    "import os\n",
    "import plotly.graph_objs as go\n",
    "from mta_charts import Fitted, Correlations\n",
    "\n",
    "warnings.filterwarnings(\"ignore\")\n",
    "matplotlib.rc(\"lines\", linewidth= 1.5)\n",
    "matplotlib.rc(\"figure\", figsize= (12,6))"
   ]
  },
  {
   "cell_type": "code",
   "execution_count": null,
   "metadata": {},
   "outputs": [],
   "source": [
    "path = r\"G:\\Shared drives\\measure.monks\\!Clients\\Contentful\\Feb Update\\Modelling\\Outputs\\\\\"\n",
    "model_name = \"P1 Form Visitors - Direct\"\n",
    "\n",
    "chart = Fitted(path)\n",
    "chart.actual_vs_fitted(model_name)"
   ]
  },
  {
   "cell_type": "code",
   "execution_count": null,
   "metadata": {},
   "outputs": [],
   "source": [
    "start_date = \"2023-08-01\"\n",
    "end_date = \"2024-01-31\"\n",
    "\n",
    "path = r\"G:\\Shared drives\\measure.monks\\!Clients\\Contentful\\Feb Update\\Data\\Combined_Data.csv\"\n",
    "kpi = {\"Brand Search\": \"Search-Google&Bing-Sales Led-NA-Brand-Clicks\",\n",
    "       \"Non Brand Sign Up\": \"Search-Google&Bing-Self Serve-Sign Up-Non Brand-Clicks\",\n",
    "       \"P1 Form Visitors - Direct\": \"KPI-Direct-NA-NA-P1 Form Visitors\",\n",
    "       \"P1 Form Visitors - Search\": \"KPI-Search-NA-NA-P1 Form Visitors\",\n",
    "       \"P1 Form Visitors - Other\": \"KPI-Other-NA-NA-P1 Form Visitors\"}"
   ]
  },
  {
   "cell_type": "code",
   "execution_count": null,
   "metadata": {},
   "outputs": [],
   "source": [
    "chart = Correlations(data= path, kpi= kpi, start_date= \"2023-08-01\", end_date= \"2024-01-31\")\n",
    "chart.kpi_vs_media_corr(model= \"Brand Search\", media_var= \"Video-DV360-NA-NA-CTV-Impressions\")"
   ]
  },
  {
   "cell_type": "code",
   "execution_count": null,
   "metadata": {},
   "outputs": [],
   "source": [
    "chart = Correlations(data= path, kpi= kpi, start_date= \"2023-08-01\", end_date= \"2024-01-31\")\n",
    "chart.media_corr(media_vars= [\"Video-DV360-NA-NA-CTV-Impressions\", \"Video-DV360-NA-NA-OLV-Impressions\"])"
   ]
  },
  {
   "cell_type": "code",
   "execution_count": null,
   "metadata": {},
   "outputs": [],
   "source": []
  }
 ],
 "metadata": {
  "kernelspec": {
   "display_name": "Python 3",
   "language": "python",
   "name": "python3"
  },
  "language_info": {
   "codemirror_mode": {
    "name": "ipython",
    "version": 3
   },
   "file_extension": ".py",
   "mimetype": "text/x-python",
   "name": "python",
   "nbconvert_exporter": "python",
   "pygments_lexer": "ipython3",
   "version": "3.11.8"
  }
 },
 "nbformat": 4,
 "nbformat_minor": 2
}
